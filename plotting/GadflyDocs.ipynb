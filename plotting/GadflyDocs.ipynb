{
 "metadata": {
  "language": "Julia",
  "name": ""
 },
 "nbformat": 3,
 "nbformat_minor": 0,
 "worksheets": [
  {
   "cells": [
    {
     "cell_type": "code",
     "collapsed": false,
     "input": [
      "using Gadfly\n",
      "using RDatasets\n",
      "set_default_plot_size(12cm, 8cm)"
     ],
     "language": "python",
     "metadata": {},
     "outputs": [
      {
       "ename": "MethodError",
       "evalue": "no method first(Chain,)",
       "output_type": "pyerr",
       "traceback": [
        "no method first(Chain,)",
        " in apply_statistic at /home/stewart/.julia/Gadfly/src/statistics.jl:375",
        " in apply_statistics at /home/stewart/.julia/Gadfly/src/statistics.jl:33",
        " in render at /home/stewart/.julia/Gadfly/src/Gadfly.jl:586",
        " in writemime at /home/stewart/.julia/Gadfly/src/Gadfly.jl:673",
        " in sprint at io.jl:419",
        " in display_dict at /home/stewart/.julia/IJulia/src/execute_request.jl:35"
       ]
      }
     ],
     "prompt_number": 2
    },
    {
     "cell_type": "code",
     "collapsed": false,
     "input": [
      "# Introduction\n",
      "plot(data(\"datasets\", \"iris\"), x=\"Sepal.Length\", y=\"Sepal.Width\", Geom.point)\n",
      "plot(data(\"car\", \"SLID\"), x=\"wages\", color=\"language\", Geom.histogram)\n",
      "plot([sin, cos], 0, 25)\n",
      "@plot(cos(x)/x, 5, 25)"
     ],
     "language": "python",
     "metadata": {},
     "outputs": [
      {
       "ename": "MethodError",
       "evalue": "no method first(Chain,)",
       "output_type": "pyerr",
       "traceback": [
        "no method first(Chain,)",
        " in apply_statistic at /home/stewart/.julia/Gadfly/src/statistics.jl:375",
        " in apply_statistics at /home/stewart/.julia/Gadfly/src/statistics.jl:33",
        " in render at /home/stewart/.julia/Gadfly/src/Gadfly.jl:586",
        " in writemime at /home/stewart/.julia/Gadfly/src/Gadfly.jl:673",
        " in sprint at io.jl:419",
        " in display_dict at /home/stewart/.julia/IJulia/src/execute_request.jl:35"
       ]
      }
     ],
     "prompt_number": 4
    },
    {
     "cell_type": "code",
     "collapsed": false,
     "input": [
      "# Geom.point\n",
      "plot(data(\"datasets\", \"iris\"), x=\"Sepal.Length\", y=\"Sepal.Width\", Geom.point)\n",
      "plot(data(\"datasets\", \"iris\"), x=\"Sepal.Length\", y=\"Sepal.Width\",\n",
      "     color=\"Species\", Geom.point)\n",
      "plot(data(\"datasets\", \"iris\"), x=\"Sepal.Length\", y=\"Sepal.Width\",\n",
      "     color=\"Petal.Length\", Geom.point)\n",
      "plot(data(\"lattice\", \"singer\"), x=\"voice.part\", y=\"height\", Geom.point)"
     ],
     "language": "python",
     "metadata": {},
     "outputs": [
      {
       "ename": "MethodError",
       "evalue": "no method first(Chain,)",
       "output_type": "pyerr",
       "traceback": [
        "no method first(Chain,)",
        " in apply_statistic at /home/stewart/.julia/Gadfly/src/statistics.jl:375",
        " in apply_statistics at /home/stewart/.julia/Gadfly/src/statistics.jl:33",
        " in render at /home/stewart/.julia/Gadfly/src/Gadfly.jl:586",
        " in writemime at /home/stewart/.julia/Gadfly/src/Gadfly.jl:673",
        " in sprint at io.jl:419",
        " in display_dict at /home/stewart/.julia/IJulia/src/execute_request.jl:35"
       ]
      }
     ],
     "prompt_number": 6
    },
    {
     "cell_type": "code",
     "collapsed": false,
     "input": [
      "# Geom.line\n",
      "plot(data(\"lattice\", \"melanoma\"), x=\"year\", y=\"incidence\", Geom.line)\n",
      "plot(data(\"Zelig\", \"approval\"), x=\"month\",  y=\"approve\", color=\"year\", Geom.line)"
     ],
     "language": "python",
     "metadata": {},
     "outputs": [
      {
       "ename": "MethodError",
       "evalue": "no method first(Chain,)",
       "output_type": "pyerr",
       "traceback": [
        "no method first(Chain,)",
        " in apply_statistic at /home/stewart/.julia/Gadfly/src/statistics.jl:375",
        " in apply_statistics at /home/stewart/.julia/Gadfly/src/statistics.jl:33",
        " in render at /home/stewart/.julia/Gadfly/src/Gadfly.jl:586",
        " in writemime at /home/stewart/.julia/Gadfly/src/Gadfly.jl:673",
        " in sprint at io.jl:419",
        " in display_dict at /home/stewart/.julia/IJulia/src/execute_request.jl:35"
       ]
      }
     ],
     "prompt_number": 8
    },
    {
     "cell_type": "code",
     "collapsed": false,
     "input": [
      "# Geom.boxplot\n",
      "plot(data(\"lattice\", \"singer\"), x=\"voice.part\", y=\"height\", Geom.boxplot)"
     ],
     "language": "python",
     "metadata": {},
     "outputs": [
      {
       "ename": "MethodError",
       "evalue": "no method first(Chain,)",
       "output_type": "pyerr",
       "traceback": [
        "no method first(Chain,)",
        " in apply_statistic at /home/stewart/.julia/Gadfly/src/statistics.jl:375",
        " in apply_statistics at /home/stewart/.julia/Gadfly/src/statistics.jl:33",
        " in render at /home/stewart/.julia/Gadfly/src/Gadfly.jl:586",
        " in writemime at /home/stewart/.julia/Gadfly/src/Gadfly.jl:673",
        " in sprint at io.jl:419",
        " in display_dict at /home/stewart/.julia/IJulia/src/execute_request.jl:35"
       ]
      }
     ],
     "prompt_number": 9
    },
    {
     "cell_type": "code",
     "collapsed": false,
     "input": [
      "# Geom.histogram\n",
      "plot(data(\"ggplot2\", \"diamonds\"), x=\"price\", Geom.histogram)\n",
      "plot(data(\"ggplot2\", \"diamonds\"), x=\"price\", color=\"cut\", Geom.histogram)"
     ],
     "language": "python",
     "metadata": {},
     "outputs": [
      {
       "ename": "MethodError",
       "evalue": "no method first(Chain,)",
       "output_type": "pyerr",
       "traceback": [
        "no method first(Chain,)",
        " in apply_statistic at /home/stewart/.julia/Gadfly/src/statistics.jl:375",
        " in apply_statistics at /home/stewart/.julia/Gadfly/src/statistics.jl:33",
        " in render at /home/stewart/.julia/Gadfly/src/Gadfly.jl:586",
        " in writemime at /home/stewart/.julia/Gadfly/src/Gadfly.jl:673",
        " in sprint at io.jl:419",
        " in display_dict at /home/stewart/.julia/IJulia/src/execute_request.jl:35"
       ]
      }
     ],
     "prompt_number": 10
    },
    {
     "cell_type": "code",
     "collapsed": false,
     "input": [
      "# Geom.density\n",
      "plot(data(\"ggplot2\", \"diamonds\"), x=\"price\", Geom.density)\n",
      "plot(data(\"ggplot2\", \"diamonds\"), x=\"price\", color=\"cut\", Geom.density)"
     ],
     "language": "python",
     "metadata": {},
     "outputs": [
      {
       "ename": "MethodError",
       "evalue": "no method first(Chain,)",
       "output_type": "pyerr",
       "traceback": [
        "no method first(Chain,)",
        " in apply_statistic at /home/stewart/.julia/Gadfly/src/statistics.jl:375",
        " in apply_statistics at /home/stewart/.julia/Gadfly/src/statistics.jl:33",
        " in render at /home/stewart/.julia/Gadfly/src/Gadfly.jl:586",
        " in writemime at /home/stewart/.julia/Gadfly/src/Gadfly.jl:673",
        " in sprint at io.jl:419",
        " in display_dict at /home/stewart/.julia/IJulia/src/execute_request.jl:35"
       ]
      }
     ],
     "prompt_number": 11
    },
    {
     "cell_type": "code",
     "collapsed": false,
     "input": [
      "# Geom.histogram2d\n",
      "plot(data(\"car\", \"Womenlf\"), x=\"hincome\", y=\"region\", Geom.histogram2d)\n",
      "plot(data(\"car\", \"UN\"), x=\"gdp\", y=\"infant.mortality\",\n",
      "     Scale.x_log10, Scale.y_log10, Geom.histogram2d)"
     ],
     "language": "python",
     "metadata": {},
     "outputs": [
      {
       "ename": "MethodError",
       "evalue": "no method first(Chain,)",
       "output_type": "pyerr",
       "traceback": [
        "no method first(Chain,)",
        " in apply_statistic at /home/stewart/.julia/Gadfly/src/statistics.jl:375",
        " in apply_statistics at /home/stewart/.julia/Gadfly/src/statistics.jl:33",
        " in render at /home/stewart/.julia/Gadfly/src/Gadfly.jl:586",
        " in writemime at /home/stewart/.julia/Gadfly/src/Gadfly.jl:673",
        " in sprint at io.jl:419",
        " in display_dict at /home/stewart/.julia/IJulia/src/execute_request.jl:35"
       ]
      }
     ],
     "prompt_number": 12
    },
    {
     "cell_type": "code",
     "collapsed": false,
     "input": [
      "# Geom.label\n",
      "plot(data(\"ggplot2\", \"mpg\"), x=\"cty\", y=\"hwy\", label=\"model\", Geom.point, Geom.label)\n",
      "plot(data(\"MASS\", \"mammals\"), x=\"body\", y=\"brain\", label=1,\n",
      "     Scale.x_log10, Scale.y_log10, Geom.point, Geom.label)"
     ],
     "language": "python",
     "metadata": {},
     "outputs": [
      {
       "ename": "MethodError",
       "evalue": "no method first(Chain,)",
       "output_type": "pyerr",
       "traceback": [
        "no method first(Chain,)",
        " in apply_statistic at /home/stewart/.julia/Gadfly/src/statistics.jl:375",
        " in apply_statistics at /home/stewart/.julia/Gadfly/src/statistics.jl:33",
        " in render at /home/stewart/.julia/Gadfly/src/Gadfly.jl:586",
        " in writemime at /home/stewart/.julia/Gadfly/src/Gadfly.jl:673",
        " in sprint at io.jl:419",
        " in display_dict at /home/stewart/.julia/IJulia/src/execute_request.jl:35"
       ]
      }
     ],
     "prompt_number": 13
    },
    {
     "cell_type": "code",
     "collapsed": false,
     "input": [
      "# Geom.rectbin\n",
      "plot(data(\"Zelig\", \"macro\"), x=\"year\", y=\"country\", color=\"gdp\", Geom.rectbin)"
     ],
     "language": "python",
     "metadata": {},
     "outputs": [
      {
       "ename": "MethodError",
       "evalue": "no method first(Chain,)",
       "output_type": "pyerr",
       "traceback": [
        "no method first(Chain,)",
        " in apply_statistic at /home/stewart/.julia/Gadfly/src/statistics.jl:375",
        " in apply_statistics at /home/stewart/.julia/Gadfly/src/statistics.jl:33",
        " in render at /home/stewart/.julia/Gadfly/src/Gadfly.jl:586",
        " in writemime at /home/stewart/.julia/Gadfly/src/Gadfly.jl:673",
        " in sprint at io.jl:419",
        " in display_dict at /home/stewart/.julia/IJulia/src/execute_request.jl:35"
       ]
      }
     ],
     "prompt_number": 14
    },
    {
     "cell_type": "code",
     "collapsed": false,
     "input": [
      "# Geom.subplot_grid\n",
      "set_default_plot_size(20cm, 7.5cm)\n",
      "plot(data(\"datasets\", \"OrchardSprays\"),\n",
      "     xgroup=\"treatment\", x=\"colpos\", y=\"rowpos\", color=\"decrease\",\n",
      "     Geom.subplot_grid(Geom.point))\n",
      "set_default_plot_size(14cm, 25cm)\n",
      "plot(data(\"vcd\", \"Suicide\"), xgroup=\"sex\", ygroup=\"method\", x=\"age\", y=\"Freq\",\n",
      "     Geom.subplot_grid(Geom.bar))"
     ],
     "language": "python",
     "metadata": {},
     "outputs": [
      {
       "ename": "ErrorException",
       "evalue": "UnitBox not defined",
       "output_type": "pyerr",
       "traceback": [
        "UnitBox not defined",
        " in apply_coordinate at /home/stewart/.julia/Gadfly/src/coord.jl:148",
        " in render_prepared at /home/stewart/.julia/Gadfly/src/Gadfly.jl:633",
        " in render at /home/stewart/.julia/Gadfly/src/Gadfly.jl:594",
        " in writemime at /home/stewart/.julia/Gadfly/src/Gadfly.jl:673",
        " in sprint at io.jl:419",
        " in display_dict at /home/stewart/.julia/IJulia/src/execute_request.jl:35"
       ]
      }
     ],
     "prompt_number": 15
    },
    {
     "cell_type": "code",
     "collapsed": false,
     "input": [
      "# Geom.errorbar\n",
      "using Distributions\n",
      "\n",
      "sds = [1, 1/2, 1/4, 1/8, 1/16, 1/32]\n",
      "n = 10\n",
      "ys = [mean(rand(Normal(0, sd), n)) for sd in sds]\n",
      "ymins = ys .- (1.96 * sds / sqrt(n))\n",
      "ymaxs = ys .+ (1.96 * sds / sqrt(n))\n",
      "\n",
      "plot(x=1:length(sds), y=ys, ymin=ymins, ymax=ymaxs,\n",
      "     Geom.point, Geom.errorbar)"
     ],
     "language": "python",
     "metadata": {},
     "outputs": [
      {
       "ename": "MethodError",
       "evalue": "no method first(Chain,)",
       "output_type": "pyerr",
       "traceback": [
        "no method first(Chain,)",
        " in apply_statistic at /home/stewart/.julia/Gadfly/src/statistics.jl:375",
        " in apply_statistics at /home/stewart/.julia/Gadfly/src/statistics.jl:33",
        " in render at /home/stewart/.julia/Gadfly/src/Gadfly.jl:586",
        " in writemime at /home/stewart/.julia/Gadfly/src/Gadfly.jl:673",
        " in sprint at io.jl:419",
        " in display_dict at /home/stewart/.julia/IJulia/src/execute_request.jl:35"
       ]
      }
     ],
     "prompt_number": 16
    },
    {
     "cell_type": "code",
     "collapsed": false,
     "input": [
      "# Geom.smooth\n",
      "plot(data(\"Zelig\", \"macro\"), x=\"year\", y=\"unem\", color=\"country\", Geom.point, Geom.smooth)"
     ],
     "language": "python",
     "metadata": {},
     "outputs": [
      {
       "ename": "MethodError",
       "evalue": "no method first(Chain,)",
       "output_type": "pyerr",
       "traceback": [
        "no method first(Chain,)",
        " in apply_statistic at /home/stewart/.julia/Gadfly/src/statistics.jl:375",
        " in apply_statistics at /home/stewart/.julia/Gadfly/src/statistics.jl:33",
        " in render at /home/stewart/.julia/Gadfly/src/Gadfly.jl:586",
        " in writemime at /home/stewart/.julia/Gadfly/src/Gadfly.jl:673",
        " in sprint at io.jl:419",
        " in display_dict at /home/stewart/.julia/IJulia/src/execute_request.jl:35"
       ]
      }
     ],
     "prompt_number": 17
    },
    {
     "cell_type": "code",
     "collapsed": false,
     "input": [
      "# Geom.hline / Geom.vline\n",
      "plot(data(\"datasets\", \"iris\"), x=\"Sepal.Length\", y=\"Sepal.Width\",\n",
      "     yintercept=[2.5, 4.0], Geom.point, Geom.hline)\n",
      "plot(data(\"datasets\", \"iris\"), x=\"Sepal.Length\", y=\"Sepal.Width\",\n",
      "     yintercept=[2.5, 4.0], Geom.point,\n",
      "     Geom.hline(color=\"orange\", size=2mm))\n",
      "plot(data(\"datasets\", \"iris\"), x=\"Sepal.Length\", y=\"Sepal.Width\",\n",
      "     xintercept=[5.0, 7.0], Geom.point, Geom.vline)\n",
      "plot(data(\"datasets\", \"iris\"), x=\"Sepal.Length\", y=\"Sepal.Width\",\n",
      "     xintercept=[5.0, 7.0], Geom.point,\n",
      "     Geom.vline(color=\"orange\", size=2mm))"
     ],
     "language": "python",
     "metadata": {},
     "outputs": []
    }
   ],
   "metadata": {}
  }
 ]
}